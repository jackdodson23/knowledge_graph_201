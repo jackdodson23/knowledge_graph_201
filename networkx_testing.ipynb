{
 "cells": [
  {
   "cell_type": "code",
   "execution_count": 2,
   "metadata": {},
   "outputs": [],
   "source": [
    "import networkx as nx\n",
    "import matplotlib.pyplot as plt\n",
    "import requests"
   ]
  },
  {
   "cell_type": "code",
   "execution_count": 3,
   "metadata": {},
   "outputs": [],
   "source": [
    "# Mock data\n",
    "# It is a dictionary with a disease name as key and a dictionary as item\n",
    "# The item dictionary contains two \n",
    "data = {'schizophrenia': {'human_gene': [('FFTR', 'ENS000234'), ('LGPG', 'ENS0002145')],\n",
    "                          'mouse_gene': [('FFTR', 'ENS00098234'), ('LGPG', 'ENS00021345')],\n",
    "                          'human_protein': [('fftr', 'Uni12432', 'JKJSNERGIU'), ('lgpg', 'Uni12987', 'OUIHJWRTGUNRTSG')],\n",
    "                          'mouse_protein': [('fftr', 'Uni67932', 'AAGPALOUHSKFGJD'), ('lgpg', 'Uni0933', 'OIUHJFGOUIBHFER')]\n",
    "                          },\n",
    "        'diabetes': {'human_gene': [('TTRY', 'ENS00022356345'), ('UMHK', 'ENS00024635'), ('GFDS', 'ENS000556323')],\n",
    "                    'mouse_gene': [('TTRY', 'ENS0003467'), ('UMHK', 'ENS000234667'), ('GFDS', 'ENS0005478786')],\n",
    "                    'human_protein': [('ttry', 'Uni18787', 'UIHWTGOUHRTE'), ('umhk', 'Uni1670876', 'OIJBETEY'), ('gfds', 'Uni1986734', 'KJNDBG')],\n",
    "                    'mouse_protein': [('ttry', 'Uni67096', 'OIJSEROGIJSRT'), ('umhk', 'Uni678967', 'OIJRTHOITY'), ('gfds', 'Uni1246789', 'LKSNMETRBHJLRSDNBG')]\n",
    "                    }\n",
    "        }"
   ]
  },
  {
   "cell_type": "code",
   "execution_count": 21,
   "metadata": {},
   "outputs": [
    {
     "data": {
      "text/plain": [
       "dict_keys(['human_gene', 'mouse_gene', 'human_protein', 'mouse_protein'])"
      ]
     },
     "execution_count": 21,
     "metadata": {},
     "output_type": "execute_result"
    }
   ],
   "source": [
    "disease_data.keys()"
   ]
  },
  {
   "cell_type": "code",
   "execution_count": 4,
   "metadata": {},
   "outputs": [],
   "source": [
    "# Create an empty graph\n",
    "M = nx.Graph()\n",
    "\n",
    "# Read mock dataset\n",
    "# iterate through keys of the dictionary (disease)\n",
    "for disease in data.keys():\n",
    "    M.add_node(disease, type=\"Disease\") # print disease name\n",
    "    disease_data = data[disease]  # get the dictionary of the disease, which contains the gene and protein data\n",
    "    for element in disease_data.keys():  # iterate through the keys of the disease dictionary, i.e. the gene and protein data\n",
    "        # print(element)  # print the key of the dictionary, e.g. human_gene\n",
    "        species_type, type = element.split('_')  # split the key into species and type\n",
    "        # print(species, type)\n",
    "        element_list = disease_data[element]  # get the list of genes or proteins\n",
    "        #print(len(element_list)) \n",
    "        for i, item in enumerate(element_list):  # iterate through the list of genes or proteins\n",
    "            # print(item)\n",
    "            if type == 'gene':  # if the type is gene, then the item is a tuple of gene symbol and gene id\n",
    "                gene_symbol, gene_id = item\n",
    "                #print(gene_id, gene_symbol, species_type)\n",
    "                # check if node is already present in the graph\n",
    "                if gene_id not in M.nodes:\n",
    "                    M.add_node(gene_id, name = gene_symbol, species = species_type, type= \"Gene\") \n",
    "                if species_type == \"human\":\n",
    "                    M.add_edge(gene_id, disease, type=\"Association\")\n",
    "                elif species_type == \"mouse\":\n",
    "                    mouse_gene = data[disease][species_type + '_gene'][i]\n",
    "                    human_gene = data[disease]['human_gene'][i]\n",
    "                    M.add_edge(mouse_gene[1], human_gene[1], type=\"Orthology\")\n",
    "\n",
    "                # check if the gene is already present in the nodes of the graph\n",
    "                #if gene_symbol in G.nodes:\n",
    "                    # if the gene is already present, then add the disease as a node attribute\n",
    "                   # G.nodes[gene_symbol]['disease'] = disease\n",
    "                # print(gene_symbol, gene_id)\n",
    "            elif type == 'protein':  # if the type is protein, then the item is a tuple of protein name, protein id and protein sequence\n",
    "                protein_symbol, protein_id, protein_sequence = item \n",
    "                if protein_id not in M.nodes:\n",
    "                    M.add_node(protein_id, name = protein_symbol, species = species_type, sequence = protein_sequence, type= \"Protein\") \n",
    "                gene_associated = data[disease][species_type + '_gene'][i]\n",
    "                gene_id = gene_associated[1]\n",
    "                M.add_edge(protein_id, gene_id, type=\"Expression\")"
   ]
  },
  {
   "cell_type": "code",
   "execution_count": 5,
   "metadata": {},
   "outputs": [
    {
     "data": {
      "image/png": "[encoded data removed]",
      "text/plain": [
       "<Figure size 432x288 with 1 Axes>"
      ]
     },
     "metadata": {},
     "output_type": "display_data"
    }
   ],
   "source": [
    "color_map = {'Gene': 'blue', 'Protein': 'green', 'Disease': 'red'}\n",
    "\n",
    "# Create a list of colors for the nodes based on their type\n",
    "node_colors = [color_map[M.nodes[n]['type']] for n in M.nodes()]\n",
    "\n",
    "# Draw the graph\n",
    "nx.draw(M, with_labels=True, node_color=node_colors, font_color='white')\n",
    "\n",
    "# Show the plot\n",
    "plt.show()"
   ]
  },
  {
   "cell_type": "code",
   "execution_count": 94,
   "metadata": {},
   "outputs": [
    {
     "name": "stdout",
     "output_type": "stream",
     "text": [
      "schizophrenia\n",
      "human_gene\n",
      "human gene\n",
      "[('FFTR', 'ENS000234'), ('LGPG', 'ENS0002145')]\n",
      "('FFTR', 'ENS000234')\n",
      "FFTR ENS000234\n",
      "('LGPG', 'ENS0002145')\n",
      "LGPG ENS0002145\n",
      "mouse_gene\n",
      "mouse gene\n",
      "[('FFTR', 'ENS00098234'), ('LGPG', 'ENS00021345')]\n",
      "('FFTR', 'ENS00098234')\n",
      "FFTR ENS00098234\n",
      "('LGPG', 'ENS00021345')\n",
      "LGPG ENS00021345\n",
      "human_protein\n",
      "human protein\n",
      "[('fftr', 'Uni12432', 'JKJSNERGIU'), ('lgpg', 'Uni12987', 'OUIHJWRTGUNRTSG')]\n",
      "mouse_protein\n",
      "mouse protein\n",
      "[('fftr', 'Uni67932', 'AAGPALOUHSKFGJD'), ('lgpg', 'Uni0933', 'OIUHJFGOUIBHFER')]\n",
      "diabetes\n",
      "human_gene\n",
      "human gene\n",
      "[('TTRY', 'ENS00022356345'), ('UMHK', 'ENS00024635'), ('GFDS', 'ENS000556323')]\n",
      "('TTRY', 'ENS00022356345')\n",
      "TTRY ENS00022356345\n",
      "('UMHK', 'ENS00024635')\n",
      "UMHK ENS00024635\n",
      "('GFDS', 'ENS000556323')\n",
      "GFDS ENS000556323\n",
      "mouse_gene\n",
      "mouse gene\n",
      "[('TTRY', 'ENS0003467'), ('UMHK', 'ENS000234667'), ('GFDS', 'ENS0005478786')]\n",
      "('TTRY', 'ENS0003467')\n",
      "TTRY ENS0003467\n",
      "('UMHK', 'ENS000234667')\n",
      "UMHK ENS000234667\n",
      "('GFDS', 'ENS0005478786')\n",
      "GFDS ENS0005478786\n",
      "human_protein\n",
      "human protein\n",
      "[('ttry', 'Uni18787', 'UIHWTGOUHRTE'), ('umhk', 'Uni1670876', 'OIJBETEY'), ('gfds', 'Uni1986734', 'KJNDBG')]\n",
      "mouse_protein\n",
      "mouse protein\n",
      "[('ttry', 'Uni67096', 'OIJSEROGIJSRT'), ('umhk', 'Uni678967', 'OIJRTHOITY'), ('gfds', 'Uni1246789', 'LKSNMETRBHJLRSDNBG')]\n"
     ]
    }
   ],
   "source": [
    "# Read mock dataset\n",
    "# iterate through keys of the dictionary (disease)\n",
    "for disease in data.keys():\n",
    "    print(disease)  # print disease name\n",
    "    disease_data = data[disease]  # get the dictionary of the disease, which contains the gene and protein data\n",
    "    for element in disease_data.keys():  # iterate through the keys of the disease dictionary, i.e. the gene and protein data\n",
    "        print(element)  # print the key of the dictionary, e.g. human_gene\n",
    "        species, type = element.split('_')  # split the key into species and type\n",
    "        print(species, type)\n",
    "        element_list = disease_data[element]  # get the list of genes or proteins\n",
    "        print(element_list)\n",
    "        for item in element_list:  # iterate through the list of genes or proteins\n",
    "            print(item)\n",
    "            if type == 'gene':  # if the type is gene, then the item is a tuple of gene symbol and gene id\n",
    "                gene_symbol, gene_id = item\n",
    "                # check if the gene is already present in the nodes of the graph\n",
    "                if gene_symbol in G.nodes:\n",
    "                    # if the gene is already present, then add the disease as a node attribute\n",
    "                    G.nodes[gene_symbol]['disease'] = disease\n",
    "                print(gene_symbol, gene_id)\n",
    "            elif type == 'protein':  # if the type is protein, then the item is a tuple of protein name, protein id and protein sequence\n",
    "                protein_symbol, protein_id, protein_sequence = item\n"
   ]
  },
  {
   "cell_type": "code",
   "execution_count": 7,
   "metadata": {},
   "outputs": [],
   "source": [
    "## takes forever to run\n",
    "# Set the base URL for the API\n",
    "BASE_URL = \"https://rest.genenames.org\"\n",
    "\n",
    "# Define a function to get the protein for a gene\n",
    "def get_protein(gene_symbol):\n",
    "    url = f\"{BASE_URL}/fetch/symbol/{gene_symbol}\"\n",
    "    headers = {\n",
    "        \"Accept\": \"application/json\"\n",
    "    }\n",
    "    response = requests.get(url, headers=headers)\n",
    "    data = response.json()\n",
    "    protein = data.get(\"response\", {}).get(\"docs\", [])[0].get(\"uniprot_ids\", [])\n",
    "    return protein\n",
    "\n",
    "# Define a function to create the knowledge graph for all human genes\n",
    "# def create_knowledge_graph():\n",
    "#     # Create an empty graph\n",
    "#     G = nx.Graph()\n",
    "\n",
    "#     # Retrieve all human gene symbols\n",
    "#     url = f\"{BASE_URL}/fetch/status/Approved\"\n",
    "#     headers = {\n",
    "#         \"Accept\": \"application/json\"\n",
    "#     }\n",
    "#     response = requests.get(url, headers=headers)\n",
    "#     data = response.json()\n",
    "#     gene_symbols = [doc.get(\"symbol\") for doc in data.get(\"response\", {}).get(\"docs\", [])]\n",
    "\n",
    "#     # Add each gene and its protein to the graph\n",
    "#     for gene_symbol in gene_symbols:\n",
    "#         G.add_node(gene_symbol, type=\"gene\")\n",
    "#         proteins = get_protein(gene_symbol)\n",
    "#         for p in proteins:\n",
    "#             G.add_node(p, type=\"protein\")\n",
    "#             G.add_edge(gene_symbol, p, type=\"expression\")\n",
    "\n",
    "#     return G\n",
    "\n",
    "# # Example usage\n",
    "# G = create_knowledge_graph()\n",
    "\n",
    "# # Print the nodes and edges of the graph\n",
    "# print(\"Nodes:\", G.nodes)\n",
    "# print(\"Edges:\", G.edges)"
   ]
  },
  {
   "cell_type": "code",
   "execution_count": 54,
   "metadata": {},
   "outputs": [],
   "source": [
    "#G.add_nodes_from([(1, {\"type\": \"A\"}), (2, {\"type\": \"B\"}), (3, {\"type\": \"B\"}), (4, {\"type\": \"C\"})])\n",
    "#format to add nodes as a list"
   ]
  },
  {
   "cell_type": "code",
   "execution_count": 26,
   "metadata": {},
   "outputs": [],
   "source": [
    "# Create an empty graph\n",
    "G = nx.Graph()\n",
    "\n",
    "# Retrieve all human gene symbols\n",
    "url = f\"{BASE_URL}/fetch/status/Approved\"\n",
    "headers = {\n",
    "    \"Accept\": \"application/json\"\n",
    "}\n",
    "response = requests.get(url, headers=headers)\n",
    "data = response.json()\n",
    "gene_symbols = [doc.get(\"symbol\") for doc in data.get(\"response\", {}).get(\"docs\", [])]\n",
    "\n",
    " "
   ]
  },
  {
   "cell_type": "code",
   "execution_count": 27,
   "metadata": {},
   "outputs": [],
   "source": [
    "# Add each gene and its protein to the graph\n",
    "for gene_symbol in gene_symbols[0:10]:\n",
    "    # I just take the first 10 genes to make it faster\n",
    "    #G.add_node(gene_symbol, type=\"gene\")\n",
    "    G.add_node(gene_symbol, type=\"gene\", species =\"Human\")\n",
    "    proteins = get_protein(gene_symbol)\n",
    "    for p in proteins:\n",
    "        G.add_node(p, type=\"protein\")\n",
    "        G.add_edge(gene_symbol, p, type=\"expression\")\n",
    "#2m 23.8s for 99 genes\n",
    "#2m 26.8s for 100 genes\n",
    "#11m 30.1s for 500 genes"
   ]
  },
  {
   "cell_type": "code",
   "execution_count": 59,
   "metadata": {},
   "outputs": [
    {
     "name": "stdout",
     "output_type": "stream",
     "text": [
      "Nodes: ['A1BG', 'P04217', 'A1BG-AS1', 'A1CF', 'Q9NQ94', 'A2M', 'P01023', 'A2M-AS1', 'A2ML1', 'A8K2U0', 'A2ML1-AS1', 'A2ML1-AS2', 'A2MP1', 'A3GALT2', 'U3KPV4']\n",
      "Edges: [('A1BG', 'P04217'), ('A1CF', 'Q9NQ94'), ('A2M', 'P01023'), ('A2ML1', 'A8K2U0'), ('A3GALT2', 'U3KPV4')]\n"
     ]
    }
   ],
   "source": [
    "print(\"Nodes:\", G.nodes)\n",
    "print(\"Edges:\", G.edges)"
   ]
  },
  {
   "cell_type": "code",
   "execution_count": 29,
   "metadata": {},
   "outputs": [
    {
     "data": {
      "image/png": "[encoded data removed]",
      "text/plain": [
       "<Figure size 432x288 with 1 Axes>"
      ]
     },
     "metadata": {},
     "output_type": "display_data"
    }
   ],
   "source": [
    "# Set up the layout for the graph\n",
    "#pos = nx.spring_layout(G)\n",
    "pos == nx.petersen_graph()\n",
    "# Draw the nodes and edges\n",
    "nx.draw_networkx_nodes(G, pos, node_color=\"lightblue\")\n",
    "nx.draw_networkx_edges(G, pos, edge_color=\"grey\")\n",
    "nx.draw_networkx_labels(G, pos)\n",
    "plt.savefig(\"500_gene_network.png\")\n",
    "# Show the plot\n",
    "#plt.show()\n"
   ]
  },
  {
   "cell_type": "code",
   "execution_count": 30,
   "metadata": {},
   "outputs": [
    {
     "data": {
      "text/plain": [
       "'Graph with 15 nodes and 5 edges'"
      ]
     },
     "execution_count": 30,
     "metadata": {},
     "output_type": "execute_result"
    }
   ],
   "source": [
    "nx.info(G)"
   ]
  },
  {
   "cell_type": "code",
   "execution_count": 31,
   "metadata": {},
   "outputs": [
    {
     "name": "stdout",
     "output_type": "stream",
     "text": [
      "{'gene': 10, 'protein': 5}\n"
     ]
    }
   ],
   "source": [
    "type_counts = {}\n",
    "for n in G.nodes():\n",
    "    node_type = G.nodes[n][\"type\"]\n",
    "    if node_type in type_counts:\n",
    "        type_counts[node_type] += 1\n",
    "    else:\n",
    "        type_counts[node_type] = 1\n",
    "\n",
    "print(type_counts)"
   ]
  },
  {
   "cell_type": "code",
   "execution_count": 32,
   "metadata": {},
   "outputs": [
    {
     "ename": "KeyError",
     "evalue": "'species'",
     "output_type": "error",
     "traceback": [
      "\u001b[0;31m---------------------------------------------------------------------------\u001b[0m",
      "\u001b[0;31mKeyError\u001b[0m                                  Traceback (most recent call last)",
      "\u001b[0;32m/var/folders/1t/9qs2q25s50j8627n61_cblmm0000gn/T/ipykernel_22206/763670661.py\u001b[0m in \u001b[0;36m<module>\u001b[0;34m\u001b[0m\n\u001b[1;32m      1\u001b[0m \u001b[0mtype_counts\u001b[0m \u001b[0;34m=\u001b[0m \u001b[0;34m{\u001b[0m\u001b[0;34m}\u001b[0m\u001b[0;34m\u001b[0m\u001b[0;34m\u001b[0m\u001b[0m\n\u001b[1;32m      2\u001b[0m \u001b[0;32mfor\u001b[0m \u001b[0mn\u001b[0m \u001b[0;32min\u001b[0m \u001b[0mG\u001b[0m\u001b[0;34m.\u001b[0m\u001b[0mnodes\u001b[0m\u001b[0;34m(\u001b[0m\u001b[0;34m)\u001b[0m\u001b[0;34m:\u001b[0m\u001b[0;34m\u001b[0m\u001b[0;34m\u001b[0m\u001b[0m\n\u001b[0;32m----> 3\u001b[0;31m     \u001b[0mnode_type\u001b[0m \u001b[0;34m=\u001b[0m \u001b[0mG\u001b[0m\u001b[0;34m.\u001b[0m\u001b[0mnodes\u001b[0m\u001b[0;34m[\u001b[0m\u001b[0mn\u001b[0m\u001b[0;34m]\u001b[0m\u001b[0;34m[\u001b[0m\u001b[0;34m\"species\"\u001b[0m\u001b[0;34m]\u001b[0m\u001b[0;34m\u001b[0m\u001b[0;34m\u001b[0m\u001b[0m\n\u001b[0m\u001b[1;32m      4\u001b[0m     \u001b[0;32mif\u001b[0m \u001b[0mnode_type\u001b[0m \u001b[0;32min\u001b[0m \u001b[0mtype_counts\u001b[0m\u001b[0;34m:\u001b[0m\u001b[0;34m\u001b[0m\u001b[0;34m\u001b[0m\u001b[0m\n\u001b[1;32m      5\u001b[0m         \u001b[0mtype_counts\u001b[0m\u001b[0;34m[\u001b[0m\u001b[0mnode_type\u001b[0m\u001b[0;34m]\u001b[0m \u001b[0;34m+=\u001b[0m \u001b[0;36m1\u001b[0m\u001b[0;34m\u001b[0m\u001b[0;34m\u001b[0m\u001b[0m\n",
      "\u001b[0;31mKeyError\u001b[0m: 'species'"
     ]
    }
   ],
   "source": [
    "type_counts = {}\n",
    "for n in G.nodes():\n",
    "    node_type = G.nodes[n][\"species\"]\n",
    "    if node_type in type_counts:\n",
    "        type_counts[node_type] += 1\n",
    "    else:\n",
    "        type_counts[node_type] = 1\n",
    "\n",
    "print(type_counts)"
   ]
  },
  {
   "cell_type": "code",
   "execution_count": 56,
   "metadata": {},
   "outputs": [
    {
     "ename": "TypeError",
     "evalue": "string indices must be integers",
     "output_type": "error",
     "traceback": [
      "\u001b[0;31m---------------------------------------------------------------------------\u001b[0m",
      "\u001b[0;31mTypeError\u001b[0m                                 Traceback (most recent call last)",
      "\u001b[0;32m/var/folders/1t/9qs2q25s50j8627n61_cblmm0000gn/T/ipykernel_22206/3218337517.py\u001b[0m in \u001b[0;36m<module>\u001b[0;34m\u001b[0m\n\u001b[0;32m----> 1\u001b[0;31m \u001b[0mG\u001b[0m\u001b[0;34m.\u001b[0m\u001b[0mnodes\u001b[0m\u001b[0;34m[\u001b[0m\u001b[0mn\u001b[0m\u001b[0;34m]\u001b[0m\u001b[0;34m[\u001b[0m\u001b[0;34m\"type\"\u001b[0m\u001b[0;34m]\u001b[0m\u001b[0;34m[\u001b[0m\u001b[0;34m\"species\"\u001b[0m\u001b[0;34m]\u001b[0m\u001b[0;34m\u001b[0m\u001b[0;34m\u001b[0m\u001b[0m\n\u001b[0m",
      "\u001b[0;31mTypeError\u001b[0m: string indices must be integers"
     ]
    }
   ],
   "source": [
    "G.nodes[n][\"type\"][\"species\"]"
   ]
  },
  {
   "cell_type": "code",
   "execution_count": 71,
   "metadata": {},
   "outputs": [
    {
     "data": {
      "text/plain": [
       "'Human'"
      ]
     },
     "execution_count": 71,
     "metadata": {},
     "output_type": "execute_result"
    }
   ],
   "source": [
    "G.nodes[\"A1BG\"][\"species\"]"
   ]
  },
  {
   "cell_type": "code",
   "execution_count": 35,
   "metadata": {},
   "outputs": [
    {
     "data": {
      "image/png": "[encoded data removed]",
      "text/plain": [
       "<Figure size 432x288 with 1 Axes>"
      ]
     },
     "metadata": {},
     "output_type": "display_data"
    }
   ],
   "source": [
    "color_map = {'gene': 'blue', 'protein': 'green'}\n",
    "\n",
    "# Create a list of colors for the nodes based on their type\n",
    "node_colors = [color_map[G.nodes[n]['type']] for n in G.nodes()]\n",
    "\n",
    "# Draw the graph\n",
    "nx.draw(G, with_labels=True, node_color=node_colors, font_color='white')\n",
    "\n",
    "# Show the plot\n",
    "plt.show()"
   ]
  }
 ],
 "metadata": {
  "kernelspec": {
   "display_name": "Python 3",
   "language": "python",
   "name": "python3"
  },
  "language_info": {
   "codemirror_mode": {
    "name": "ipython",
    "version": 3
   },
   "file_extension": ".py",
   "mimetype": "text/x-python",
   "name": "python",
   "nbconvert_exporter": "python",
   "pygments_lexer": "ipython3",
   "version": "3.9.7"
  },
  "orig_nbformat": 4
 },
 "nbformat": 4,
 "nbformat_minor": 2
}
