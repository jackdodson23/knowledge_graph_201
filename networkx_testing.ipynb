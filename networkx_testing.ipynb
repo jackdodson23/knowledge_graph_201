{
 "cells": [
  {
   "cell_type": "code",
   "execution_count": 1,
   "metadata": {},
   "outputs": [],
   "source": [
    "import networkx as nx\n",
    "import matplotlib.pyplot as plt\n",
    "import requests"
   ]
  },
  {
   "cell_type": "code",
   "execution_count": 2,
   "metadata": {},
   "outputs": [],
   "source": [
    "## takes forever to run\n",
    "# Set the base URL for the API\n",
    "BASE_URL = \"https://rest.genenames.org\"\n",
    "\n",
    "# Define a function to get the protein for a gene\n",
    "def get_protein(gene_symbol):\n",
    "    url = f\"{BASE_URL}/fetch/symbol/{gene_symbol}\"\n",
    "    headers = {\n",
    "        \"Accept\": \"application/json\"\n",
    "    }\n",
    "    response = requests.get(url, headers=headers)\n",
    "    data = response.json()\n",
    "    protein = data.get(\"response\", {}).get(\"docs\", [])[0].get(\"uniprot_ids\", [])\n",
    "    return protein\n",
    "\n",
    "# Define a function to create the knowledge graph for all human genes\n",
    "# def create_knowledge_graph():\n",
    "#     # Create an empty graph\n",
    "#     G = nx.Graph()\n",
    "\n",
    "#     # Retrieve all human gene symbols\n",
    "#     url = f\"{BASE_URL}/fetch/status/Approved\"\n",
    "#     headers = {\n",
    "#         \"Accept\": \"application/json\"\n",
    "#     }\n",
    "#     response = requests.get(url, headers=headers)\n",
    "#     data = response.json()\n",
    "#     gene_symbols = [doc.get(\"symbol\") for doc in data.get(\"response\", {}).get(\"docs\", [])]\n",
    "\n",
    "#     # Add each gene and its protein to the graph\n",
    "#     for gene_symbol in gene_symbols:\n",
    "#         G.add_node(gene_symbol, type=\"gene\")\n",
    "#         proteins = get_protein(gene_symbol)\n",
    "#         for p in proteins:\n",
    "#             G.add_node(p, type=\"protein\")\n",
    "#             G.add_edge(gene_symbol, p, type=\"expression\")\n",
    "\n",
    "#     return G\n",
    "\n",
    "# # Example usage\n",
    "# G = create_knowledge_graph()\n",
    "\n",
    "# # Print the nodes and edges of the graph\n",
    "# print(\"Nodes:\", G.nodes)\n",
    "# print(\"Edges:\", G.edges)"
   ]
  },
  {
   "cell_type": "code",
   "execution_count": 7,
   "metadata": {},
   "outputs": [],
   "source": [
    "# Create an empty graph\n",
    "G = nx.Graph()\n",
    "\n",
    "# Retrieve all human gene symbols\n",
    "url = f\"{BASE_URL}/fetch/status/Approved\"\n",
    "headers = {\n",
    "    \"Accept\": \"application/json\"\n",
    "}\n",
    "response = requests.get(url, headers=headers)\n",
    "data = response.json()\n",
    "gene_symbols = [doc.get(\"symbol\") for doc in data.get(\"response\", {}).get(\"docs\", [])]\n",
    "\n",
    " "
   ]
  },
  {
   "cell_type": "code",
   "execution_count": 8,
   "metadata": {},
   "outputs": [],
   "source": [
    "# Add each gene and its protein to the graph\n",
    "for gene_symbol in gene_symbols[1:10]:\n",
    "    # I just take the first 10 genes to make it faster\n",
    "    G.add_node(gene_symbol, type=\"gene\")\n",
    "    proteins = get_protein(gene_symbol)\n",
    "    for p in proteins:\n",
    "        G.add_node(p, type=\"protein\")\n",
    "        G.add_edge(gene_symbol, p, type=\"expression\")"
   ]
  },
  {
   "cell_type": "code",
   "execution_count": 9,
   "metadata": {},
   "outputs": [
    {
     "name": "stdout",
     "output_type": "stream",
     "text": [
      "Nodes: ['A1BG-AS1', 'A1CF', 'Q9NQ94', 'A2M', 'P01023', 'A2M-AS1', 'A2ML1', 'A8K2U0', 'A2ML1-AS1', 'A2ML1-AS2', 'A2MP1', 'A3GALT2', 'U3KPV4']\n",
      "Edges: [('A1CF', 'Q9NQ94'), ('A2M', 'P01023'), ('A2ML1', 'A8K2U0'), ('A3GALT2', 'U3KPV4')]\n"
     ]
    }
   ],
   "source": [
    "print(\"Nodes:\", G.nodes)\n",
    "print(\"Edges:\", G.edges)"
   ]
  },
  {
   "cell_type": "code",
   "execution_count": 6,
   "metadata": {},
   "outputs": [
    {
     "data": {
      "image/png": "[encoded data removed]",
      "text/plain": [
       "<Figure size 432x288 with 1 Axes>"
      ]
     },
     "metadata": {},
     "output_type": "display_data"
    }
   ],
   "source": [
    "# Set up the layout for the graph\n",
    "pos = nx.spring_layout(G)\n",
    "\n",
    "# Draw the nodes and edges\n",
    "nx.draw_networkx_nodes(G, pos, node_color=\"lightblue\")\n",
    "nx.draw_networkx_edges(G, pos, edge_color=\"grey\")\n",
    "nx.draw_networkx_labels(G, pos)\n",
    "\n",
    "# Show the plot\n",
    "plt.show()"
   ]
  }
 ],
 "metadata": {
  "kernelspec": {
   "display_name": "Python 3",
   "language": "python",
   "name": "python3"
  },
  "language_info": {
   "codemirror_mode": {
    "name": "ipython",
    "version": 3
   },
   "file_extension": ".py",
   "mimetype": "text/x-python",
   "name": "python",
   "nbconvert_exporter": "python",
   "pygments_lexer": "ipython3",
   "version": "3.9.7"
  },
  "orig_nbformat": 4
 },
 "nbformat": 4,
 "nbformat_minor": 2
}
