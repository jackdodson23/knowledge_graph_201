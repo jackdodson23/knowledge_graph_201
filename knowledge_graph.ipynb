{
 "cells": [
  {
   "cell_type": "code",
   "execution_count": 3,
   "metadata": {
    "collapsed": true
   },
   "outputs": [],
   "source": [
    "import requests\n",
    "import json\n",
    "import urllib.parse"
   ]
  },
  {
   "cell_type": "code",
   "execution_count": 35,
   "metadata": {},
   "outputs": [
    {
     "name": "stdout",
     "output_type": "stream",
     "text": [
      "['CDKN2B-AS1', 'MGP', 'TNNI3', 'CYSLTR2', 'ACE2', 'HEY2', 'NPPB', 'KLF5', 'HEY1', 'TBXAS1']\n"
     ]
    }
   ],
   "source": [
    "import requests\n",
    "\n",
    "# Define the API endpoint\n",
    "api_url = 'http://mygene.info/v3/query'\n",
    "\n",
    "# Define the search term\n",
    "search_term = 'cardiovascular disease'\n",
    "\n",
    "# Define the API parameters\n",
    "params = {\n",
    "    'q': search_term,\n",
    "    'fields': 'symbol,name,summary',\n",
    "    'species': 'human'\n",
    "}\n",
    "\n",
    "# Send the GET request to the API and retrieve the response\n",
    "response = requests.get(api_url, params=params)\n",
    "\n",
    "# Check if the request was successful\n",
    "if response.ok:\n",
    "    # Retrieve the JSON data from the response\n",
    "    data = response.json()\n",
    "    \n",
    "    genes = []\n",
    "    # Extract gene information from the response\n",
    "    for result in data['hits']:\n",
    "        gene_symbol = result['symbol']\n",
    "        genes.append(gene_symbol)\n",
    "\n",
    "else:\n",
    "    # Print an error message if the request was unsuccessful\n",
    "    print('Error:', response.status_code, response.text)\n",
    "\n",
    "print(genes)"
   ]
  },
  {
   "cell_type": "code",
   "execution_count": 36,
   "metadata": {},
   "outputs": [
    {
     "name": "stdout",
     "output_type": "stream",
     "text": [
      "['ENSG00000240498', 'ENSG00000111341', 'ENSG00000129991', 'LRG_432', 'ENSG00000152207', 'ENSG00000130234', 'ENSG00000135547', 'ENSG00000120937', 'ENSG00000102554', 'ENSG00000164683', 'ENSG00000059377', 'LRG_579']\n"
     ]
    }
   ],
   "source": [
    "# Define the API endpoint\n",
    "api_url = 'https://rest.ensembl.org/xrefs/symbol/homo_sapiens/'\n",
    "\n",
    "# Define the API parameters\n",
    "params = {\n",
    "    'content-type': 'application/json',\n",
    "    'object_type': 'gene',\n",
    "    'ensembl_release': 'GRCh38'\n",
    "}\n",
    "\n",
    "ensembl_ids = []\n",
    "for gene in genes:\n",
    "    # Send the GET request to the API and retrieve the response\n",
    "    response = requests.get(api_url + gene, params=params)\n",
    "\n",
    "    # Check if the request was successful\n",
    "    if response.ok:\n",
    "        # Retrieve the JSON data from the response\n",
    "        data = response.json()\n",
    "        \n",
    "        # Extract the Ensembl gene ID from the response\n",
    "        for result in data:\n",
    "            ensembl_ids.append(result['id'])\n",
    "    else:\n",
    "        # Print an error message if the request was unsuccessful\n",
    "        print('Error:', response.status_code, response.text)\n",
    "\n",
    "print(ensembl_ids)"
   ]
  },
  {
   "cell_type": "code",
   "execution_count": 37,
   "metadata": {
    "collapsed": false
   },
   "outputs": [
    {
     "name": "stdout",
     "output_type": "stream",
     "text": [
      "ENSMUSG00000030218\n",
      "mus_musculus\n",
      "ortholog_one2one\n",
      "\n",
      "ENSMUSG00000035458\n",
      "mus_musculus\n",
      "ortholog_one2one\n",
      "\n",
      "ENSMUSG00000015405\n",
      "mus_musculus\n",
      "ortholog_one2one\n",
      "\n",
      "ENSMUSG00000019789\n",
      "mus_musculus\n",
      "ortholog_one2one\n",
      "\n",
      "ENSMUSG00000029019\n",
      "mus_musculus\n",
      "ortholog_one2one\n",
      "\n",
      "ENSMUSG00000005148\n",
      "mus_musculus\n",
      "ortholog_one2one\n",
      "\n",
      "ENSMUSG00000040289\n",
      "mus_musculus\n",
      "ortholog_one2one\n",
      "\n",
      "ENSMUSG00000029925\n",
      "mus_musculus\n",
      "ortholog_one2one\n",
      "\n",
      "{'ENSG00000111341': ['ENSMUSG00000030218', 'mus_musculus'], 'ENSG00000129991': ['ENSMUSG00000035458', 'mus_musculus'], 'ENSG00000130234': ['ENSMUSG00000015405', 'mus_musculus'], 'ENSG00000135547': ['ENSMUSG00000019789', 'mus_musculus'], 'ENSG00000120937': ['ENSMUSG00000029019', 'mus_musculus'], 'ENSG00000102554': ['ENSMUSG00000005148', 'mus_musculus'], 'ENSG00000164683': ['ENSMUSG00000040289', 'mus_musculus'], 'ENSG00000059377': ['ENSMUSG00000029925', 'mus_musculus']}\n",
      "8\n"
     ]
    }
   ],
   "source": [
    "# Use Ensembl to find orthologues\n",
    "\n",
    "orthologues = {}\n",
    "\n",
    "for ensembl in ensembl_ids:\n",
    "\n",
    "# TODO: add ability to query multiple genes, or a list of genes related to some disease\n",
    "# OR all genes in a subset of species\n",
    "    # Define the API endpoint\n",
    "    api_url = 'https://rest.ensembl.org/homology/id/'\n",
    "\n",
    "    # Define the Ensembl gene ID\n",
    "    ensembl_id = ensembl\n",
    "\n",
    "    # Define the API parameters\n",
    "    params = {\n",
    "        'content-type': 'application/json',\n",
    "        'type': 'orthologues',\n",
    "        'target_taxon': '10090' # Mouse\n",
    "    }\n",
    "\n",
    "    # Send the GET request to the API and retrieve the response\n",
    "    response = requests.get(api_url + ensembl_id, params=params)\n",
    "\n",
    "    #print(data[\"data\"][0][\"homologies\"])\n",
    "\n",
    "    # Check if the request was successful\n",
    "    if response.ok:\n",
    "        # Retrieve the JSON data from the response\n",
    "        data = response.json()\n",
    "        \n",
    "        # Extract the orthologous gene IDs from the response\n",
    "        \n",
    "        for homology in data[\"data\"][0][\"homologies\"]:\n",
    "            #if homology[\"target\"][\"species\"] in species_of_interest:  # orthologues within the species of interest\n",
    "            if(homology['type'] == 'ortholog_one2one'):\n",
    "                target_gene = homology[\"target\"][\"id\"]\n",
    "                target_species = homology[\"target\"][\"species\"]\n",
    "                target_orthology = homology[\"type\"]\n",
    "                print(target_gene)\n",
    "                print(target_species)\n",
    "                print(target_orthology)\n",
    "                print()\n",
    "                ortholog = [target_gene, target_species]\n",
    "                orthologues[ensembl] = ortholog\n",
    "\n",
    "print(orthologues)\n",
    "print(len(orthologues))\n",
    "\n",
    "        # data is a dictionary with only one key, which is \"data\"\n",
    "        # data[\"data\"] is list with only one element\n",
    "        # data[\"data\"][0] is a dictionary with the following keys:\n",
    "        #  \"id\", and the value is just a string with the gene ID (e.g. \"ENSG00000157764\")\n",
    "        # \"homologies\", and the value is a list with 227 elements, iterating over the homologues (orthologues, paralogues)\n",
    "\n",
    "        #print(len(data[\"data\"][0][\"homologies\"]))\n",
    "        #print(data[\"data\"][0][\"homologies\"][0]['source'])"
   ]
  },
  {
   "cell_type": "code",
   "execution_count": 38,
   "metadata": {
    "collapsed": false
   },
   "outputs": [
    {
     "name": "stdout",
     "output_type": "stream",
     "text": [
      "ENSG00000111341\n"
     ]
    },
    {
     "ename": "KeyError",
     "evalue": "'results'",
     "output_type": "error",
     "traceback": [
      "\u001b[0;31m---------------------------------------------------------------------------\u001b[0m",
      "\u001b[0;31mKeyError\u001b[0m                                  Traceback (most recent call last)",
      "\u001b[0;32m<ipython-input-38-be6b917d1ca2>\u001b[0m in \u001b[0;36m<module>\u001b[0;34m\u001b[0m\n\u001b[1;32m     11\u001b[0m     \u001b[0;31m# data[\"results\"] is a list with 3 elements, one for each protein\u001b[0m\u001b[0;34m\u001b[0m\u001b[0;34m\u001b[0m\u001b[0m\n\u001b[1;32m     12\u001b[0m     \u001b[0;31m# data[\"results\"][0] is a dictionary with these entries: 'entryType', 'primaryAccession', 'uniProtkbId', 'entryAudit', 'annotationScore', 'organism', 'proteinExistence', 'proteinDescription', 'genes', 'comments', 'features', 'keywords', 'references', 'uniProtKBCrossReferences', 'sequence', 'extraAttributes'\u001b[0m\u001b[0;34m\u001b[0m\u001b[0;34m\u001b[0m\u001b[0m\n\u001b[0;32m---> 13\u001b[0;31m     \u001b[0;32mif\u001b[0m\u001b[0;34m(\u001b[0m\u001b[0mlen\u001b[0m\u001b[0;34m(\u001b[0m\u001b[0mdata\u001b[0m\u001b[0;34m[\u001b[0m\u001b[0;34m\"results\"\u001b[0m\u001b[0;34m]\u001b[0m\u001b[0;34m)\u001b[0m \u001b[0;34m==\u001b[0m \u001b[0;36m0\u001b[0m\u001b[0;34m)\u001b[0m\u001b[0;34m:\u001b[0m\u001b[0;34m\u001b[0m\u001b[0m\n\u001b[0m\u001b[1;32m     14\u001b[0m         \u001b[0;32mcontinue\u001b[0m\u001b[0;34m\u001b[0m\u001b[0m\n\u001b[1;32m     15\u001b[0m     \u001b[0;32melif\u001b[0m\u001b[0;34m(\u001b[0m\u001b[0morthologue\u001b[0m\u001b[0;34m[\u001b[0m\u001b[0;36m1\u001b[0m\u001b[0;34m]\u001b[0m \u001b[0;32min\u001b[0m \u001b[0mspecies_of_interest\u001b[0m\u001b[0;34m)\u001b[0m\u001b[0;34m:\u001b[0m\u001b[0;34m\u001b[0m\u001b[0m\n",
      "\u001b[0;31mKeyError\u001b[0m: 'results'"
     ]
    }
   ],
   "source": [
    "# Use UniProt to find the proteins produced by the orthologues\n",
    "proteins = []\n",
    "for orthologue in orthologues:\n",
    "    print(orthologue)\n",
    "    uniprot_url = f\"https://rest.uniprot.org/uniprotkb/stream?compressed=false&format=json&query=%28{orthologue[1]}%20{orthologue[0]}%29\"\n",
    "    response = requests.get(uniprot_url)\n",
    "    # convert response.content from bytes to dictionary\n",
    "    data = json.loads(response.content)\n",
    "    # If the data is empty, skip it\n",
    "    # data is a dictionary with only one key, which is \"results\"\n",
    "    # data[\"results\"] is a list with 3 elements, one for each protein\n",
    "    # data[\"results\"][0] is a dictionary with these entries: 'entryType', 'primaryAccession', 'uniProtkbId', 'entryAudit', 'annotationScore', 'organism', 'proteinExistence', 'proteinDescription', 'genes', 'comments', 'features', 'keywords', 'references', 'uniProtKBCrossReferences', 'sequence', 'extraAttributes'\n",
    "    if(len(data[\"results\"]) == 0):\n",
    "        continue\n",
    "    elif(orthologue[1] in species_of_interest):\n",
    "    # check if organism match with the orthologue input, print both\n",
    "    # print(data[\"results\"][0][\"organism\"][\"scientificName\"], orthologue[1])\n",
    "    # print(data[\"results\"][0][\"primaryAccession\"], data[\"results\"][0][\"uniProtkbId\"])\n",
    "        #print(orthologue[0], orthologue[1])\n",
    "        print(data['results'][0]['comments'][5])\n",
    "        print('============================')\n",
    "        protein_species = (data[\"results\"][0][\"primaryAccession\"], data[\"results\"][0][\"organism\"][\"taxonId\"], data['results'][0]['genes'][0]['geneName']['value'])\n",
    "        proteins.append(protein_species)\n",
    "\n",
    "print(proteins)"
   ]
  }
 ],
 "metadata": {
  "kernelspec": {
   "display_name": "Python 3",
   "language": "python",
   "name": "python3"
  },
  "language_info": {
   "codemirror_mode": {
    "name": "ipython",
    "version": 3
   },
   "file_extension": ".py",
   "mimetype": "text/x-python",
   "name": "python",
   "nbconvert_exporter": "python",
   "pygments_lexer": "ipython3",
   "version": "3.6.6"
  },
  "vscode": {
   "interpreter": {
    "hash": "aee8b7b246df8f9039afb4144a1f6fd8d2ca17a180786b69acc140d282b71a49"
   }
  }
 },
 "nbformat": 4,
 "nbformat_minor": 0
}
